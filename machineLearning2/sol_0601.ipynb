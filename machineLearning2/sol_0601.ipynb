{
 "cells": [
  {
   "cell_type": "code",
   "execution_count": 39,
   "metadata": {},
   "outputs": [],
   "source": [
    "import numpy as np\n",
    "import pandas as pd\n",
    "import matplotlib.pyplot as plt\n",
    "from sklearn.linear_model import LinearRegression"
   ]
  },
  {
   "cell_type": "code",
   "execution_count": 40,
   "metadata": {},
   "outputs": [],
   "source": [
    "os.chdir(r\"C:\\Users\\bit\\Desktop\\머신러닝 알고리즘과 응용 2\\data\")"
   ]
  },
  {
   "cell_type": "code",
   "execution_count": 41,
   "metadata": {},
   "outputs": [],
   "source": [
    "# df = pd.read_csv('data_studentlist_en.csv', header='infer',encoding='ISO-8859-1')\n",
    "df = pd.read_csv('data_kbo2015.csv', header='infer',encoding = 'latin1')"
   ]
  },
  {
   "cell_type": "code",
   "execution_count": 42,
   "metadata": {},
   "outputs": [
    {
     "data": {
      "text/plain": [
       "(10, 26)"
      ]
     },
     "execution_count": 42,
     "metadata": {},
     "output_type": "execute_result"
    }
   ],
   "source": [
    "df.shape"
   ]
  },
  {
   "cell_type": "code",
   "execution_count": 43,
   "metadata": {},
   "outputs": [
    {
     "data": {
      "text/plain": [
       "<bound method DataFrame.info of    ranking     team    AVG    G    PA    AB    R     H   2B  3B  ...    IBB  \\\n",
       "0        1  Samsung  0.300  102  4091  3553  634  1066  188  19  ...     15   \n",
       "1        2    Nexen  0.300  102  4151  3620  658  1085  227  12  ...     13   \n",
       "2        3   Doosan  0.291   99  3950  3410  570   991  176  16  ...     17   \n",
       "3        4       NC  0.288  101  3994  3485  591  1002  205  20  ...     17   \n",
       "4        5    Lotte  0.277  104  4082  3557  545   985  176  14  ...     16   \n",
       "5        6       SK  0.276   99  3888  3373  476   931  146   9  ...     12   \n",
       "6        7   Hanhwa  0.270  102  4037  3404  504   919  162  13  ...     23   \n",
       "7        8       kt  0.270  102  3988  3498  466   944  161  13  ...     13   \n",
       "8        9       LG  0.259  103  3984  3491  458   905  171  16  ...     17   \n",
       "9       10      KIA  0.256  100  3835  3362  469   861  161  14  ...     11   \n",
       "\n",
       "   HBP   SO  GDP    SLG    OBP    OPS   MH   RISP  PH-BA  \n",
       "0   47  650   78  0.471  0.374  0.845  101  0.300  0.216  \n",
       "1   61  815   79  0.498  0.374  0.872  100  0.294  0.268  \n",
       "2   66  544   95  0.438  0.368  0.806   98  0.284  0.262  \n",
       "3   74  717   65  0.453  0.362  0.815  101  0.296  0.274  \n",
       "4   57  866  105  0.444  0.356  0.800  104  0.272  0.190  \n",
       "5   63  720   73  0.406  0.355  0.761   99  0.277  0.236  \n",
       "6   86  780   78  0.397  0.360  0.757  102  0.264  0.196  \n",
       "7   47  799   75  0.398  0.343  0.741  101  0.259  0.243  \n",
       "8   57  803   68  0.389  0.334  0.723  103  0.238  0.231  \n",
       "9   69  778   68  0.397  0.332  0.729  100  0.260  0.214  \n",
       "\n",
       "[10 rows x 26 columns]>"
      ]
     },
     "execution_count": 43,
     "metadata": {},
     "output_type": "execute_result"
    }
   ],
   "source": [
    "df.info"
   ]
  },
  {
   "cell_type": "code",
   "execution_count": 44,
   "metadata": {},
   "outputs": [
    {
     "data": {
      "text/plain": [
       "Index(['ranking', 'team', 'AVG', 'G', 'PA', 'AB', 'R', 'H', '2B', '3B', 'HR',\n",
       "       'TB', 'RBI', 'SAC', 'SF', 'BB', 'IBB', 'HBP', 'SO', 'GDP', 'SLG', 'OBP',\n",
       "       'OPS', 'MH', 'RISP', 'PH-BA'],\n",
       "      dtype='object')"
      ]
     },
     "execution_count": 44,
     "metadata": {},
     "output_type": "execute_result"
    }
   ],
   "source": [
    "df.columns"
   ]
  },
  {
   "cell_type": "code",
   "execution_count": 45,
   "metadata": {},
   "outputs": [
    {
     "data": {
      "text/html": [
       "<div>\n",
       "<style scoped>\n",
       "    .dataframe tbody tr th:only-of-type {\n",
       "        vertical-align: middle;\n",
       "    }\n",
       "\n",
       "    .dataframe tbody tr th {\n",
       "        vertical-align: top;\n",
       "    }\n",
       "\n",
       "    .dataframe thead th {\n",
       "        text-align: right;\n",
       "    }\n",
       "</style>\n",
       "<table border=\"1\" class=\"dataframe\">\n",
       "  <thead>\n",
       "    <tr style=\"text-align: right;\">\n",
       "      <th></th>\n",
       "      <th>ranking</th>\n",
       "      <th>team</th>\n",
       "      <th>AVG</th>\n",
       "      <th>G</th>\n",
       "      <th>PA</th>\n",
       "      <th>AB</th>\n",
       "      <th>R</th>\n",
       "      <th>H</th>\n",
       "      <th>2B</th>\n",
       "      <th>3B</th>\n",
       "      <th>...</th>\n",
       "      <th>IBB</th>\n",
       "      <th>HBP</th>\n",
       "      <th>SO</th>\n",
       "      <th>GDP</th>\n",
       "      <th>SLG</th>\n",
       "      <th>OBP</th>\n",
       "      <th>OPS</th>\n",
       "      <th>MH</th>\n",
       "      <th>RISP</th>\n",
       "      <th>PH-BA</th>\n",
       "    </tr>\n",
       "  </thead>\n",
       "  <tbody>\n",
       "    <tr>\n",
       "      <th>0</th>\n",
       "      <td>1</td>\n",
       "      <td>Samsung</td>\n",
       "      <td>0.300</td>\n",
       "      <td>102</td>\n",
       "      <td>4091</td>\n",
       "      <td>3553</td>\n",
       "      <td>634</td>\n",
       "      <td>1066</td>\n",
       "      <td>188</td>\n",
       "      <td>19</td>\n",
       "      <td>...</td>\n",
       "      <td>15</td>\n",
       "      <td>47</td>\n",
       "      <td>650</td>\n",
       "      <td>78</td>\n",
       "      <td>0.471</td>\n",
       "      <td>0.374</td>\n",
       "      <td>0.845</td>\n",
       "      <td>101</td>\n",
       "      <td>0.300</td>\n",
       "      <td>0.216</td>\n",
       "    </tr>\n",
       "    <tr>\n",
       "      <th>1</th>\n",
       "      <td>2</td>\n",
       "      <td>Nexen</td>\n",
       "      <td>0.300</td>\n",
       "      <td>102</td>\n",
       "      <td>4151</td>\n",
       "      <td>3620</td>\n",
       "      <td>658</td>\n",
       "      <td>1085</td>\n",
       "      <td>227</td>\n",
       "      <td>12</td>\n",
       "      <td>...</td>\n",
       "      <td>13</td>\n",
       "      <td>61</td>\n",
       "      <td>815</td>\n",
       "      <td>79</td>\n",
       "      <td>0.498</td>\n",
       "      <td>0.374</td>\n",
       "      <td>0.872</td>\n",
       "      <td>100</td>\n",
       "      <td>0.294</td>\n",
       "      <td>0.268</td>\n",
       "    </tr>\n",
       "    <tr>\n",
       "      <th>2</th>\n",
       "      <td>3</td>\n",
       "      <td>Doosan</td>\n",
       "      <td>0.291</td>\n",
       "      <td>99</td>\n",
       "      <td>3950</td>\n",
       "      <td>3410</td>\n",
       "      <td>570</td>\n",
       "      <td>991</td>\n",
       "      <td>176</td>\n",
       "      <td>16</td>\n",
       "      <td>...</td>\n",
       "      <td>17</td>\n",
       "      <td>66</td>\n",
       "      <td>544</td>\n",
       "      <td>95</td>\n",
       "      <td>0.438</td>\n",
       "      <td>0.368</td>\n",
       "      <td>0.806</td>\n",
       "      <td>98</td>\n",
       "      <td>0.284</td>\n",
       "      <td>0.262</td>\n",
       "    </tr>\n",
       "    <tr>\n",
       "      <th>3</th>\n",
       "      <td>4</td>\n",
       "      <td>NC</td>\n",
       "      <td>0.288</td>\n",
       "      <td>101</td>\n",
       "      <td>3994</td>\n",
       "      <td>3485</td>\n",
       "      <td>591</td>\n",
       "      <td>1002</td>\n",
       "      <td>205</td>\n",
       "      <td>20</td>\n",
       "      <td>...</td>\n",
       "      <td>17</td>\n",
       "      <td>74</td>\n",
       "      <td>717</td>\n",
       "      <td>65</td>\n",
       "      <td>0.453</td>\n",
       "      <td>0.362</td>\n",
       "      <td>0.815</td>\n",
       "      <td>101</td>\n",
       "      <td>0.296</td>\n",
       "      <td>0.274</td>\n",
       "    </tr>\n",
       "    <tr>\n",
       "      <th>4</th>\n",
       "      <td>5</td>\n",
       "      <td>Lotte</td>\n",
       "      <td>0.277</td>\n",
       "      <td>104</td>\n",
       "      <td>4082</td>\n",
       "      <td>3557</td>\n",
       "      <td>545</td>\n",
       "      <td>985</td>\n",
       "      <td>176</td>\n",
       "      <td>14</td>\n",
       "      <td>...</td>\n",
       "      <td>16</td>\n",
       "      <td>57</td>\n",
       "      <td>866</td>\n",
       "      <td>105</td>\n",
       "      <td>0.444</td>\n",
       "      <td>0.356</td>\n",
       "      <td>0.800</td>\n",
       "      <td>104</td>\n",
       "      <td>0.272</td>\n",
       "      <td>0.190</td>\n",
       "    </tr>\n",
       "    <tr>\n",
       "      <th>5</th>\n",
       "      <td>6</td>\n",
       "      <td>SK</td>\n",
       "      <td>0.276</td>\n",
       "      <td>99</td>\n",
       "      <td>3888</td>\n",
       "      <td>3373</td>\n",
       "      <td>476</td>\n",
       "      <td>931</td>\n",
       "      <td>146</td>\n",
       "      <td>9</td>\n",
       "      <td>...</td>\n",
       "      <td>12</td>\n",
       "      <td>63</td>\n",
       "      <td>720</td>\n",
       "      <td>73</td>\n",
       "      <td>0.406</td>\n",
       "      <td>0.355</td>\n",
       "      <td>0.761</td>\n",
       "      <td>99</td>\n",
       "      <td>0.277</td>\n",
       "      <td>0.236</td>\n",
       "    </tr>\n",
       "    <tr>\n",
       "      <th>6</th>\n",
       "      <td>7</td>\n",
       "      <td>Hanhwa</td>\n",
       "      <td>0.270</td>\n",
       "      <td>102</td>\n",
       "      <td>4037</td>\n",
       "      <td>3404</td>\n",
       "      <td>504</td>\n",
       "      <td>919</td>\n",
       "      <td>162</td>\n",
       "      <td>13</td>\n",
       "      <td>...</td>\n",
       "      <td>23</td>\n",
       "      <td>86</td>\n",
       "      <td>780</td>\n",
       "      <td>78</td>\n",
       "      <td>0.397</td>\n",
       "      <td>0.360</td>\n",
       "      <td>0.757</td>\n",
       "      <td>102</td>\n",
       "      <td>0.264</td>\n",
       "      <td>0.196</td>\n",
       "    </tr>\n",
       "    <tr>\n",
       "      <th>7</th>\n",
       "      <td>8</td>\n",
       "      <td>kt</td>\n",
       "      <td>0.270</td>\n",
       "      <td>102</td>\n",
       "      <td>3988</td>\n",
       "      <td>3498</td>\n",
       "      <td>466</td>\n",
       "      <td>944</td>\n",
       "      <td>161</td>\n",
       "      <td>13</td>\n",
       "      <td>...</td>\n",
       "      <td>13</td>\n",
       "      <td>47</td>\n",
       "      <td>799</td>\n",
       "      <td>75</td>\n",
       "      <td>0.398</td>\n",
       "      <td>0.343</td>\n",
       "      <td>0.741</td>\n",
       "      <td>101</td>\n",
       "      <td>0.259</td>\n",
       "      <td>0.243</td>\n",
       "    </tr>\n",
       "    <tr>\n",
       "      <th>8</th>\n",
       "      <td>9</td>\n",
       "      <td>LG</td>\n",
       "      <td>0.259</td>\n",
       "      <td>103</td>\n",
       "      <td>3984</td>\n",
       "      <td>3491</td>\n",
       "      <td>458</td>\n",
       "      <td>905</td>\n",
       "      <td>171</td>\n",
       "      <td>16</td>\n",
       "      <td>...</td>\n",
       "      <td>17</td>\n",
       "      <td>57</td>\n",
       "      <td>803</td>\n",
       "      <td>68</td>\n",
       "      <td>0.389</td>\n",
       "      <td>0.334</td>\n",
       "      <td>0.723</td>\n",
       "      <td>103</td>\n",
       "      <td>0.238</td>\n",
       "      <td>0.231</td>\n",
       "    </tr>\n",
       "    <tr>\n",
       "      <th>9</th>\n",
       "      <td>10</td>\n",
       "      <td>KIA</td>\n",
       "      <td>0.256</td>\n",
       "      <td>100</td>\n",
       "      <td>3835</td>\n",
       "      <td>3362</td>\n",
       "      <td>469</td>\n",
       "      <td>861</td>\n",
       "      <td>161</td>\n",
       "      <td>14</td>\n",
       "      <td>...</td>\n",
       "      <td>11</td>\n",
       "      <td>69</td>\n",
       "      <td>778</td>\n",
       "      <td>68</td>\n",
       "      <td>0.397</td>\n",
       "      <td>0.332</td>\n",
       "      <td>0.729</td>\n",
       "      <td>100</td>\n",
       "      <td>0.260</td>\n",
       "      <td>0.214</td>\n",
       "    </tr>\n",
       "  </tbody>\n",
       "</table>\n",
       "<p>10 rows × 26 columns</p>\n",
       "</div>"
      ],
      "text/plain": [
       "   ranking     team    AVG    G    PA    AB    R     H   2B  3B  ...    IBB  \\\n",
       "0        1  Samsung  0.300  102  4091  3553  634  1066  188  19  ...     15   \n",
       "1        2    Nexen  0.300  102  4151  3620  658  1085  227  12  ...     13   \n",
       "2        3   Doosan  0.291   99  3950  3410  570   991  176  16  ...     17   \n",
       "3        4       NC  0.288  101  3994  3485  591  1002  205  20  ...     17   \n",
       "4        5    Lotte  0.277  104  4082  3557  545   985  176  14  ...     16   \n",
       "5        6       SK  0.276   99  3888  3373  476   931  146   9  ...     12   \n",
       "6        7   Hanhwa  0.270  102  4037  3404  504   919  162  13  ...     23   \n",
       "7        8       kt  0.270  102  3988  3498  466   944  161  13  ...     13   \n",
       "8        9       LG  0.259  103  3984  3491  458   905  171  16  ...     17   \n",
       "9       10      KIA  0.256  100  3835  3362  469   861  161  14  ...     11   \n",
       "\n",
       "   HBP   SO  GDP    SLG    OBP    OPS   MH   RISP  PH-BA  \n",
       "0   47  650   78  0.471  0.374  0.845  101  0.300  0.216  \n",
       "1   61  815   79  0.498  0.374  0.872  100  0.294  0.268  \n",
       "2   66  544   95  0.438  0.368  0.806   98  0.284  0.262  \n",
       "3   74  717   65  0.453  0.362  0.815  101  0.296  0.274  \n",
       "4   57  866  105  0.444  0.356  0.800  104  0.272  0.190  \n",
       "5   63  720   73  0.406  0.355  0.761   99  0.277  0.236  \n",
       "6   86  780   78  0.397  0.360  0.757  102  0.264  0.196  \n",
       "7   47  799   75  0.398  0.343  0.741  101  0.259  0.243  \n",
       "8   57  803   68  0.389  0.334  0.723  103  0.238  0.231  \n",
       "9   69  778   68  0.397  0.332  0.729  100  0.260  0.214  \n",
       "\n",
       "[10 rows x 26 columns]"
      ]
     },
     "execution_count": 45,
     "metadata": {},
     "output_type": "execute_result"
    }
   ],
   "source": [
    "df"
   ]
  },
  {
   "cell_type": "code",
   "execution_count": null,
   "metadata": {},
   "outputs": [],
   "source": []
  },
  {
   "cell_type": "code",
   "execution_count": 46,
   "metadata": {},
   "outputs": [
    {
     "data": {
      "text/html": [
       "<div>\n",
       "<style scoped>\n",
       "    .dataframe tbody tr th:only-of-type {\n",
       "        vertical-align: middle;\n",
       "    }\n",
       "\n",
       "    .dataframe tbody tr th {\n",
       "        vertical-align: top;\n",
       "    }\n",
       "\n",
       "    .dataframe thead th {\n",
       "        text-align: right;\n",
       "    }\n",
       "</style>\n",
       "<table border=\"1\" class=\"dataframe\">\n",
       "  <thead>\n",
       "    <tr style=\"text-align: right;\">\n",
       "      <th></th>\n",
       "      <th>ranking</th>\n",
       "      <th>AVG</th>\n",
       "      <th>G</th>\n",
       "      <th>PA</th>\n",
       "      <th>AB</th>\n",
       "      <th>R</th>\n",
       "      <th>H</th>\n",
       "      <th>2B</th>\n",
       "      <th>3B</th>\n",
       "      <th>HR</th>\n",
       "      <th>...</th>\n",
       "      <th>IBB</th>\n",
       "      <th>HBP</th>\n",
       "      <th>SO</th>\n",
       "      <th>GDP</th>\n",
       "      <th>SLG</th>\n",
       "      <th>OBP</th>\n",
       "      <th>OPS</th>\n",
       "      <th>MH</th>\n",
       "      <th>RISP</th>\n",
       "      <th>PH-BA</th>\n",
       "    </tr>\n",
       "  </thead>\n",
       "  <tbody>\n",
       "    <tr>\n",
       "      <th>count</th>\n",
       "      <td>10.00000</td>\n",
       "      <td>10.000000</td>\n",
       "      <td>10.000000</td>\n",
       "      <td>10.000000</td>\n",
       "      <td>10.000000</td>\n",
       "      <td>10.000000</td>\n",
       "      <td>10.000000</td>\n",
       "      <td>10.000000</td>\n",
       "      <td>10.000000</td>\n",
       "      <td>10.000000</td>\n",
       "      <td>...</td>\n",
       "      <td>10.000000</td>\n",
       "      <td>10.000000</td>\n",
       "      <td>10.000000</td>\n",
       "      <td>10.000000</td>\n",
       "      <td>10.000000</td>\n",
       "      <td>10.000000</td>\n",
       "      <td>10.000000</td>\n",
       "      <td>10.000000</td>\n",
       "      <td>10.000000</td>\n",
       "      <td>10.000000</td>\n",
       "    </tr>\n",
       "    <tr>\n",
       "      <th>mean</th>\n",
       "      <td>5.50000</td>\n",
       "      <td>0.278700</td>\n",
       "      <td>101.400000</td>\n",
       "      <td>4000.000000</td>\n",
       "      <td>3475.300000</td>\n",
       "      <td>537.100000</td>\n",
       "      <td>968.900000</td>\n",
       "      <td>177.300000</td>\n",
       "      <td>14.600000</td>\n",
       "      <td>105.900000</td>\n",
       "      <td>...</td>\n",
       "      <td>15.400000</td>\n",
       "      <td>62.700000</td>\n",
       "      <td>747.200000</td>\n",
       "      <td>78.400000</td>\n",
       "      <td>0.429100</td>\n",
       "      <td>0.355800</td>\n",
       "      <td>0.784900</td>\n",
       "      <td>100.900000</td>\n",
       "      <td>0.274400</td>\n",
       "      <td>0.233000</td>\n",
       "    </tr>\n",
       "    <tr>\n",
       "      <th>std</th>\n",
       "      <td>3.02765</td>\n",
       "      <td>0.015671</td>\n",
       "      <td>1.646545</td>\n",
       "      <td>95.382272</td>\n",
       "      <td>86.381647</td>\n",
       "      <td>73.662066</td>\n",
       "      <td>70.728668</td>\n",
       "      <td>23.898164</td>\n",
       "      <td>3.272783</td>\n",
       "      <td>24.223267</td>\n",
       "      <td>...</td>\n",
       "      <td>3.470511</td>\n",
       "      <td>11.935475</td>\n",
       "      <td>93.643295</td>\n",
       "      <td>12.562731</td>\n",
       "      <td>0.037335</td>\n",
       "      <td>0.015179</td>\n",
       "      <td>0.050564</td>\n",
       "      <td>1.791957</td>\n",
       "      <td>0.019688</td>\n",
       "      <td>0.029303</td>\n",
       "    </tr>\n",
       "    <tr>\n",
       "      <th>min</th>\n",
       "      <td>1.00000</td>\n",
       "      <td>0.256000</td>\n",
       "      <td>99.000000</td>\n",
       "      <td>3835.000000</td>\n",
       "      <td>3362.000000</td>\n",
       "      <td>458.000000</td>\n",
       "      <td>861.000000</td>\n",
       "      <td>146.000000</td>\n",
       "      <td>9.000000</td>\n",
       "      <td>82.000000</td>\n",
       "      <td>...</td>\n",
       "      <td>11.000000</td>\n",
       "      <td>47.000000</td>\n",
       "      <td>544.000000</td>\n",
       "      <td>65.000000</td>\n",
       "      <td>0.389000</td>\n",
       "      <td>0.332000</td>\n",
       "      <td>0.723000</td>\n",
       "      <td>98.000000</td>\n",
       "      <td>0.238000</td>\n",
       "      <td>0.190000</td>\n",
       "    </tr>\n",
       "    <tr>\n",
       "      <th>25%</th>\n",
       "      <td>3.25000</td>\n",
       "      <td>0.270000</td>\n",
       "      <td>100.250000</td>\n",
       "      <td>3958.500000</td>\n",
       "      <td>3405.500000</td>\n",
       "      <td>470.750000</td>\n",
       "      <td>922.000000</td>\n",
       "      <td>161.250000</td>\n",
       "      <td>13.000000</td>\n",
       "      <td>88.250000</td>\n",
       "      <td>...</td>\n",
       "      <td>13.000000</td>\n",
       "      <td>57.000000</td>\n",
       "      <td>717.750000</td>\n",
       "      <td>69.250000</td>\n",
       "      <td>0.397250</td>\n",
       "      <td>0.346000</td>\n",
       "      <td>0.745000</td>\n",
       "      <td>100.000000</td>\n",
       "      <td>0.261000</td>\n",
       "      <td>0.214500</td>\n",
       "    </tr>\n",
       "    <tr>\n",
       "      <th>50%</th>\n",
       "      <td>5.50000</td>\n",
       "      <td>0.276500</td>\n",
       "      <td>102.000000</td>\n",
       "      <td>3991.000000</td>\n",
       "      <td>3488.000000</td>\n",
       "      <td>524.500000</td>\n",
       "      <td>964.500000</td>\n",
       "      <td>173.500000</td>\n",
       "      <td>14.000000</td>\n",
       "      <td>96.500000</td>\n",
       "      <td>...</td>\n",
       "      <td>15.500000</td>\n",
       "      <td>62.000000</td>\n",
       "      <td>779.000000</td>\n",
       "      <td>76.500000</td>\n",
       "      <td>0.422000</td>\n",
       "      <td>0.358000</td>\n",
       "      <td>0.780500</td>\n",
       "      <td>101.000000</td>\n",
       "      <td>0.274500</td>\n",
       "      <td>0.233500</td>\n",
       "    </tr>\n",
       "    <tr>\n",
       "      <th>75%</th>\n",
       "      <td>7.75000</td>\n",
       "      <td>0.290250</td>\n",
       "      <td>102.000000</td>\n",
       "      <td>4070.750000</td>\n",
       "      <td>3539.250000</td>\n",
       "      <td>585.750000</td>\n",
       "      <td>999.250000</td>\n",
       "      <td>185.000000</td>\n",
       "      <td>16.000000</td>\n",
       "      <td>122.750000</td>\n",
       "      <td>...</td>\n",
       "      <td>17.000000</td>\n",
       "      <td>68.250000</td>\n",
       "      <td>802.000000</td>\n",
       "      <td>78.750000</td>\n",
       "      <td>0.450750</td>\n",
       "      <td>0.366500</td>\n",
       "      <td>0.812750</td>\n",
       "      <td>101.750000</td>\n",
       "      <td>0.291500</td>\n",
       "      <td>0.257250</td>\n",
       "    </tr>\n",
       "    <tr>\n",
       "      <th>max</th>\n",
       "      <td>10.00000</td>\n",
       "      <td>0.300000</td>\n",
       "      <td>104.000000</td>\n",
       "      <td>4151.000000</td>\n",
       "      <td>3620.000000</td>\n",
       "      <td>658.000000</td>\n",
       "      <td>1085.000000</td>\n",
       "      <td>227.000000</td>\n",
       "      <td>20.000000</td>\n",
       "      <td>155.000000</td>\n",
       "      <td>...</td>\n",
       "      <td>23.000000</td>\n",
       "      <td>86.000000</td>\n",
       "      <td>866.000000</td>\n",
       "      <td>105.000000</td>\n",
       "      <td>0.498000</td>\n",
       "      <td>0.374000</td>\n",
       "      <td>0.872000</td>\n",
       "      <td>104.000000</td>\n",
       "      <td>0.300000</td>\n",
       "      <td>0.274000</td>\n",
       "    </tr>\n",
       "  </tbody>\n",
       "</table>\n",
       "<p>8 rows × 25 columns</p>\n",
       "</div>"
      ],
      "text/plain": [
       "        ranking        AVG           G           PA           AB           R  \\\n",
       "count  10.00000  10.000000   10.000000    10.000000    10.000000   10.000000   \n",
       "mean    5.50000   0.278700  101.400000  4000.000000  3475.300000  537.100000   \n",
       "std     3.02765   0.015671    1.646545    95.382272    86.381647   73.662066   \n",
       "min     1.00000   0.256000   99.000000  3835.000000  3362.000000  458.000000   \n",
       "25%     3.25000   0.270000  100.250000  3958.500000  3405.500000  470.750000   \n",
       "50%     5.50000   0.276500  102.000000  3991.000000  3488.000000  524.500000   \n",
       "75%     7.75000   0.290250  102.000000  4070.750000  3539.250000  585.750000   \n",
       "max    10.00000   0.300000  104.000000  4151.000000  3620.000000  658.000000   \n",
       "\n",
       "                 H          2B         3B          HR    ...            IBB  \\\n",
       "count    10.000000   10.000000  10.000000   10.000000    ...      10.000000   \n",
       "mean    968.900000  177.300000  14.600000  105.900000    ...      15.400000   \n",
       "std      70.728668   23.898164   3.272783   24.223267    ...       3.470511   \n",
       "min     861.000000  146.000000   9.000000   82.000000    ...      11.000000   \n",
       "25%     922.000000  161.250000  13.000000   88.250000    ...      13.000000   \n",
       "50%     964.500000  173.500000  14.000000   96.500000    ...      15.500000   \n",
       "75%     999.250000  185.000000  16.000000  122.750000    ...      17.000000   \n",
       "max    1085.000000  227.000000  20.000000  155.000000    ...      23.000000   \n",
       "\n",
       "             HBP          SO         GDP        SLG        OBP        OPS  \\\n",
       "count  10.000000   10.000000   10.000000  10.000000  10.000000  10.000000   \n",
       "mean   62.700000  747.200000   78.400000   0.429100   0.355800   0.784900   \n",
       "std    11.935475   93.643295   12.562731   0.037335   0.015179   0.050564   \n",
       "min    47.000000  544.000000   65.000000   0.389000   0.332000   0.723000   \n",
       "25%    57.000000  717.750000   69.250000   0.397250   0.346000   0.745000   \n",
       "50%    62.000000  779.000000   76.500000   0.422000   0.358000   0.780500   \n",
       "75%    68.250000  802.000000   78.750000   0.450750   0.366500   0.812750   \n",
       "max    86.000000  866.000000  105.000000   0.498000   0.374000   0.872000   \n",
       "\n",
       "               MH       RISP      PH-BA  \n",
       "count   10.000000  10.000000  10.000000  \n",
       "mean   100.900000   0.274400   0.233000  \n",
       "std      1.791957   0.019688   0.029303  \n",
       "min     98.000000   0.238000   0.190000  \n",
       "25%    100.000000   0.261000   0.214500  \n",
       "50%    101.000000   0.274500   0.233500  \n",
       "75%    101.750000   0.291500   0.257250  \n",
       "max    104.000000   0.300000   0.274000  \n",
       "\n",
       "[8 rows x 25 columns]"
      ]
     },
     "execution_count": 46,
     "metadata": {},
     "output_type": "execute_result"
    }
   ],
   "source": [
    "df.describe()"
   ]
  },
  {
   "cell_type": "code",
   "execution_count": 58,
   "metadata": {},
   "outputs": [
    {
     "data": {
      "text/plain": [
       "array([1066, 1085,  991, 1002,  985,  931,  919,  944,  905,  861],\n",
       "      dtype=int64)"
      ]
     },
     "execution_count": 58,
     "metadata": {},
     "output_type": "execute_result"
    }
   ],
   "source": [
    "X = np.array(df.H)\n",
    "X"
   ]
  },
  {
   "cell_type": "code",
   "execution_count": 59,
   "metadata": {},
   "outputs": [
    {
     "ename": "NameError",
     "evalue": "name 'data' is not defined",
     "traceback": [
      "\u001b[1;31m---------------------------------------------------------------------------\u001b[0m",
      "\u001b[1;31mNameError\u001b[0m                                 Traceback (most recent call last)",
      "\u001b[1;32m<ipython-input-59-c6e94840d5c4>\u001b[0m in \u001b[0;36m<module>\u001b[1;34m()\u001b[0m\n\u001b[1;32m----> 1\u001b[1;33m \u001b[0mheader\u001b[0m \u001b[1;33m=\u001b[0m \u001b[0mdata\u001b[0m\u001b[1;33m[\u001b[0m\u001b[1;34m'feature_names'\u001b[0m\u001b[1;33m]\u001b[0m\u001b[1;33m\u001b[0m\u001b[0m\n\u001b[0m",
      "\u001b[1;31mNameError\u001b[0m: name 'data' is not defined"
     ],
     "output_type": "error"
    }
   ],
   "source": [
    "header = data['feature_names']"
   ]
  },
  {
   "cell_type": "code",
   "execution_count": 60,
   "metadata": {},
   "outputs": [
    {
     "data": {
      "text/plain": [
       "array([[127],\n",
       "       [155],\n",
       "       [ 98],\n",
       "       [110],\n",
       "       [130],\n",
       "       [ 92],\n",
       "       [ 82],\n",
       "       [ 87],\n",
       "       [ 83],\n",
       "       [ 95]], dtype=int64)"
      ]
     },
     "execution_count": 60,
     "metadata": {},
     "output_type": "execute_result"
    }
   ],
   "source": [
    "Y = np.array(df.HR)\n",
    "Y = Y.reshape(-1, 1)\n",
    "Y"
   ]
  },
  {
   "cell_type": "code",
   "execution_count": 50,
   "metadata": {},
   "outputs": [],
   "source": [
    "lm = LinearRegression()"
   ]
  },
  {
   "cell_type": "code",
   "execution_count": 51,
   "metadata": {},
   "outputs": [
    {
     "ename": "NameError",
     "evalue": "name 'Y' is not defined",
     "traceback": [
      "\u001b[1;31m---------------------------------------------------------------------------\u001b[0m",
      "\u001b[1;31mNameError\u001b[0m                                 Traceback (most recent call last)",
      "\u001b[1;32m<ipython-input-51-55757d5ef438>\u001b[0m in \u001b[0;36m<module>\u001b[1;34m()\u001b[0m\n\u001b[1;32m----> 1\u001b[1;33m \u001b[0mlm\u001b[0m\u001b[1;33m.\u001b[0m\u001b[0mfit\u001b[0m\u001b[1;33m(\u001b[0m\u001b[0mX\u001b[0m\u001b[1;33m,\u001b[0m\u001b[0mY\u001b[0m\u001b[1;33m)\u001b[0m\u001b[1;33m\u001b[0m\u001b[0m\n\u001b[0m",
      "\u001b[1;31mNameError\u001b[0m: name 'Y' is not defined"
     ],
     "output_type": "error"
    }
   ],
   "source": [
    "lm.fit(X,Y)"
   ]
  },
  {
   "cell_type": "code",
   "execution_count": 52,
   "metadata": {},
   "outputs": [
    {
     "ename": "AttributeError",
     "evalue": "'LinearRegression' object has no attribute 'coef_'",
     "traceback": [
      "\u001b[1;31m---------------------------------------------------------------------------\u001b[0m",
      "\u001b[1;31mAttributeError\u001b[0m                            Traceback (most recent call last)",
      "\u001b[1;32m<ipython-input-52-af3abf2152ad>\u001b[0m in \u001b[0;36m<module>\u001b[1;34m()\u001b[0m\n\u001b[1;32m----> 1\u001b[1;33m \u001b[0mlm\u001b[0m\u001b[1;33m.\u001b[0m\u001b[0mcoef_\u001b[0m\u001b[1;33m\u001b[0m\u001b[0m\n\u001b[0m",
      "\u001b[1;31mAttributeError\u001b[0m: 'LinearRegression' object has no attribute 'coef_'"
     ],
     "output_type": "error"
    }
   ],
   "source": [
    "lm.coef_"
   ]
  },
  {
   "cell_type": "code",
   "execution_count": 53,
   "metadata": {},
   "outputs": [
    {
     "ename": "AttributeError",
     "evalue": "'LinearRegression' object has no attribute 'intercept_'",
     "traceback": [
      "\u001b[1;31m---------------------------------------------------------------------------\u001b[0m",
      "\u001b[1;31mAttributeError\u001b[0m                            Traceback (most recent call last)",
      "\u001b[1;32m<ipython-input-53-4c92206fed5f>\u001b[0m in \u001b[0;36m<module>\u001b[1;34m()\u001b[0m\n\u001b[1;32m----> 1\u001b[1;33m \u001b[0mlm\u001b[0m\u001b[1;33m.\u001b[0m\u001b[0mintercept_\u001b[0m\u001b[1;33m\u001b[0m\u001b[0m\n\u001b[0m",
      "\u001b[1;31mAttributeError\u001b[0m: 'LinearRegression' object has no attribute 'intercept_'"
     ],
     "output_type": "error"
    }
   ],
   "source": [
    "lm.intercept_"
   ]
  },
  {
   "cell_type": "code",
   "execution_count": null,
   "metadata": {},
   "outputs": [],
   "source": []
  },
  {
   "cell_type": "code",
   "execution_count": 54,
   "metadata": {},
   "outputs": [
    {
     "ename": "NameError",
     "evalue": "name 'Y' is not defined",
     "traceback": [
      "\u001b[1;31m---------------------------------------------------------------------------\u001b[0m",
      "\u001b[1;31mNameError\u001b[0m                                 Traceback (most recent call last)",
      "\u001b[1;32m<ipython-input-54-902f58a179c1>\u001b[0m in \u001b[0;36m<module>\u001b[1;34m()\u001b[0m\n\u001b[1;32m----> 1\u001b[1;33m \u001b[0mR2\u001b[0m\u001b[1;33m=\u001b[0m\u001b[0mlm\u001b[0m\u001b[1;33m.\u001b[0m\u001b[0mscore\u001b[0m\u001b[1;33m(\u001b[0m\u001b[0mX\u001b[0m\u001b[1;33m,\u001b[0m\u001b[0mY\u001b[0m\u001b[1;33m)\u001b[0m\u001b[1;33m\u001b[0m\u001b[0m\n\u001b[0m\u001b[0;32m      2\u001b[0m \u001b[0mR2\u001b[0m\u001b[1;33m\u001b[0m\u001b[0m\n",
      "\u001b[1;31mNameError\u001b[0m: name 'Y' is not defined"
     ],
     "output_type": "error"
    }
   ],
   "source": [
    "R2=lm.score(X,Y)\n",
    "R2"
   ]
  },
  {
   "cell_type": "code",
   "execution_count": 55,
   "metadata": {},
   "outputs": [
    {
     "ename": "NameError",
     "evalue": "name 'R2' is not defined",
     "traceback": [
      "\u001b[1;31m---------------------------------------------------------------------------\u001b[0m",
      "\u001b[1;31mNameError\u001b[0m                                 Traceback (most recent call last)",
      "\u001b[1;32m<ipython-input-55-657df90688c4>\u001b[0m in \u001b[0;36m<module>\u001b[1;34m()\u001b[0m\n\u001b[1;32m----> 1\u001b[1;33m \u001b[0mcorr\u001b[0m \u001b[1;33m=\u001b[0m \u001b[0mnp\u001b[0m\u001b[1;33m.\u001b[0m\u001b[0msqrt\u001b[0m\u001b[1;33m(\u001b[0m\u001b[0mR2\u001b[0m\u001b[1;33m)\u001b[0m\u001b[1;33m\u001b[0m\u001b[0m\n\u001b[0m",
      "\u001b[1;31mNameError\u001b[0m: name 'R2' is not defined"
     ],
     "output_type": "error"
    }
   ],
   "source": [
    "corr = np.sqrt(R2)"
   ]
  },
  {
   "cell_type": "code",
   "execution_count": 56,
   "metadata": {},
   "outputs": [
    {
     "ename": "NameError",
     "evalue": "name 'T' is not defined",
     "traceback": [
      "\u001b[1;31m---------------------------------------------------------------------------\u001b[0m",
      "\u001b[1;31mNameError\u001b[0m                                 Traceback (most recent call last)",
      "\u001b[1;32m<ipython-input-56-ff2634661d17>\u001b[0m in \u001b[0;36m<module>\u001b[1;34m()\u001b[0m\n\u001b[1;32m----> 1\u001b[1;33m \u001b[0mnp\u001b[0m\u001b[1;33m.\u001b[0m\u001b[0mcorrcoef\u001b[0m\u001b[1;33m(\u001b[0m\u001b[0mX\u001b[0m\u001b[1;33m,\u001b[0m\u001b[0mT\u001b[0m\u001b[1;33m,\u001b[0m\u001b[0mY\u001b[0m\u001b[1;33m,\u001b[0m\u001b[0mT\u001b[0m\u001b[1;33m)\u001b[0m\u001b[1;33m\u001b[0m\u001b[0m\n\u001b[0m",
      "\u001b[1;31mNameError\u001b[0m: name 'T' is not defined"
     ],
     "output_type": "error"
    }
   ],
   "source": [
    "np.corrcoef(X,T,Y,T)"
   ]
  },
  {
   "cell_type": "code",
   "execution_count": 57,
   "metadata": {},
   "outputs": [
    {
     "data": {
      "text/plain": [
       "0.8384116023098118"
      ]
     },
     "execution_count": 57,
     "metadata": {},
     "output_type": "execute_result"
    }
   ],
   "source": [
    "df.HR.corr(df.H)"
   ]
  },
  {
   "cell_type": "code",
   "execution_count": null,
   "metadata": {},
   "outputs": [],
   "source": [
    "\n"
   ]
  },
  {
   "cell_type": "code",
   "execution_count": null,
   "metadata": {},
   "outputs": [],
   "source": []
  }
 ],
 "metadata": {
  "kernelspec": {
   "display_name": "Python 3",
   "language": "python",
   "name": "python3"
  },
  "language_info": {
   "codemirror_mode": {
    "name": "ipython",
    "version": 3
   },
   "file_extension": ".py",
   "mimetype": "text/x-python",
   "name": "python",
   "nbconvert_exporter": "python",
   "pygments_lexer": "ipython3",
   "version": "3.6.5"
  }
 },
 "nbformat": 4,
 "nbformat_minor": 2
}
