{
 "cells": [
  {
   "cell_type": "code",
   "execution_count": 6,
   "metadata": {},
   "outputs": [],
   "source": [
    "import pandas as pd\n",
    "import numpy as np\n",
    "import os\n",
    "import matplotlib.pyplot as plt\n"
   ]
  },
  {
   "cell_type": "code",
   "execution_count": 7,
   "metadata": {},
   "outputs": [],
   "source": [
    "os.chdir(r\"C:\\Users\\bit\\Desktop\\머신러닝 알고리즘과 응용 2\\data\")"
   ]
  },
  {
   "cell_type": "code",
   "execution_count": 8,
   "metadata": {},
   "outputs": [],
   "source": [
    "# df = pd.read_csv('data_studentlist_en.csv', header='infer',encoding='ISO-8859-1')\n",
    "df = pd.read_csv('data_officesupplies.csv', header='infer',encoding = 'latin1')"
   ]
  },
  {
   "cell_type": "code",
   "execution_count": 9,
   "metadata": {},
   "outputs": [
    {
     "data": {
      "text/plain": [
       "(43, 6)"
      ]
     },
     "execution_count": 9,
     "metadata": {},
     "output_type": "execute_result"
    }
   ],
   "source": [
    "df.shape"
   ]
  },
  {
   "cell_type": "code",
   "execution_count": 10,
   "metadata": {},
   "outputs": [
    {
     "data": {
      "text/plain": [
       "<bound method DataFrame.info of       OrderDate   Region      Rep     Item  Units  Unit Price\n",
       "0    4-Jul-2014     East  Richard  Pen Set     62        4.99\n",
       "1   12-Jul-2014     East     Nick   Binder     29        1.99\n",
       "2   21-Jul-2014  Central   Morgan  Pen Set     55       12.49\n",
       "3   29-Jul-2014     East    Susan   Binder     81       19.99\n",
       "4    7-Aug-2014  Central  Matthew  Pen Set     42       23.95\n",
       "5   15-Aug-2014     East  Richard   Pencil     35        4.99\n",
       "6   24-Aug-2014     West    James     Desk      3      275.00\n",
       "7    1-Sep-2014  Central    Smith     Desk      2      125.00\n",
       "8   10-Sep-2014  Central     Bill   Pencil      7        1.29\n",
       "9   18-Sep-2014     East  Richard  Pen Set     16       15.99\n",
       "10  27-Sep-2014     West    James      Pen     76        1.99\n",
       "11   5-Oct-2014  Central   Morgan   Binder     28        8.99\n",
       "12  14-Oct-2014     West   Thomas   Binder     57       19.99\n",
       "13  22-Oct-2014     East  Richard      Pen     64        8.99\n",
       "14  31-Oct-2014  Central   Rachel   Pencil     14        1.29\n",
       "15   8-Nov-2014     East    Susan      Pen     15       19.99\n",
       "16  17-Nov-2014  Central     Alex   Binder     11        4.99\n",
       "17  25-Nov-2014  Central  Matthew  Pen Set     96        4.99\n",
       "18   4-Dec-2014  Central     Alex   Binder     94       19.99\n",
       "19  12-Dec-2014  Central    Smith   Pencil     67        1.29\n",
       "20  21-Dec-2014  Central   Rachel   Binder     28        4.99\n",
       "21  29-Dec-2014     East    Susan  Pen Set     74       15.99\n",
       "22   6-Jan-2015     East  Richard   Pencil     95        1.99\n",
       "23  15-Jan-2015  Central     Bill   Binder     46        8.99\n",
       "24  23-Jan-2015  Central  Matthew   Binder     50       19.99\n",
       "25   1-Feb-2015  Central    Smith   Binder     87       15.00\n",
       "26   9-Feb-2015  Central     Alex   Pencil     36        4.99\n",
       "27  18-Feb-2015     East  Richard   Binder      4        4.99\n",
       "28  26-Feb-2015  Central     Bill      Pen     27       19.99\n",
       "29   7-Mar-2015     West    James   Binder      7       19.99\n",
       "30  15-Mar-2015     West    James   Pencil     56        2.99\n",
       "31  24-Mar-2015  Central     Alex  Pen Set     50        4.99\n",
       "32   1-Apr-2015     East  Richard   Binder     60        4.99\n",
       "33  10-Apr-2015  Central   Rachel   Pencil     66        1.99\n",
       "34  18-Apr-2015  Central   Rachel   Pencil     75        1.99\n",
       "35  27-Apr-2015     East     Nick      Pen     96        4.99\n",
       "36   5-May-2015  Central     Alex   Pencil     90        4.99\n",
       "37  14-May-2015  Central     Bill   Pencil     53        1.29\n",
       "38  22-May-2015     West   Thomas   Pencil     32        1.99\n",
       "39  31-May-2015  Central     Bill   Binder     80        8.99\n",
       "40   8-Jun-2015     East  Richard   Binder     60        8.99\n",
       "41  17-Jun-2015  Central  Matthew     Desk      5      125.00\n",
       "42  25-Jun-2015  Central   Morgan   Pencil     90        4.99>"
      ]
     },
     "execution_count": 10,
     "metadata": {},
     "output_type": "execute_result"
    }
   ],
   "source": [
    "df.info"
   ]
  },
  {
   "cell_type": "code",
   "execution_count": 11,
   "metadata": {},
   "outputs": [
    {
     "data": {
      "text/plain": [
       "Index(['OrderDate', 'Region', 'Rep', 'Item', 'Units', 'Unit Price'], dtype='object')"
      ]
     },
     "execution_count": 11,
     "metadata": {},
     "output_type": "execute_result"
    }
   ],
   "source": [
    "df.columns"
   ]
  },
  {
   "cell_type": "code",
   "execution_count": 12,
   "metadata": {},
   "outputs": [],
   "source": [
    "df1 = df.loc[:,'Region']"
   ]
  },
  {
   "cell_type": "code",
   "execution_count": 13,
   "metadata": {},
   "outputs": [],
   "source": [
    "df2 = df.loc[:,'Units']"
   ]
  },
  {
   "cell_type": "code",
   "execution_count": 14,
   "metadata": {},
   "outputs": [
    {
     "ename": "NameError",
     "evalue": "name 'header' is not defined",
     "traceback": [
      "\u001b[1;31m---------------------------------------------------------------------------\u001b[0m",
      "\u001b[1;31mNameError\u001b[0m                                 Traceback (most recent call last)",
      "\u001b[1;32m<ipython-input-14-c8a27504ee8d>\u001b[0m in \u001b[0;36m<module>\u001b[1;34m()\u001b[0m\n\u001b[1;32m----> 1\u001b[1;33m \u001b[0mwest\u001b[0m \u001b[1;33m=\u001b[0m \u001b[0mnp\u001b[0m\u001b[1;33m.\u001b[0m\u001b[0marray\u001b[0m\u001b[1;33m(\u001b[0m\u001b[0mdf\u001b[0m\u001b[1;33m.\u001b[0m\u001b[0mloc\u001b[0m\u001b[1;33m[\u001b[0m\u001b[0mdf\u001b[0m\u001b[1;33m.\u001b[0m\u001b[0mRegion\u001b[0m\u001b[1;33m==\u001b[0m\u001b[1;34m'West'\u001b[0m\u001b[1;33m,\u001b[0m \u001b[0mheader\u001b[0m \u001b[1;33m==\u001b[0m\u001b[1;34m'Units'\u001b[0m\u001b[1;33m]\u001b[0m\u001b[1;33m)\u001b[0m\u001b[1;33m\u001b[0m\u001b[0m\n\u001b[0m",
      "\u001b[1;31mNameError\u001b[0m: name 'header' is not defined"
     ],
     "output_type": "error"
    }
   ],
   "source": [
    "west = np.array(df.loc[df.Region=='West', header =='Units'])"
   ]
  },
  {
   "cell_type": "code",
   "execution_count": 15,
   "metadata": {},
   "outputs": [
    {
     "ename": "NameError",
     "evalue": "name 'header' is not defined",
     "traceback": [
      "\u001b[1;31m---------------------------------------------------------------------------\u001b[0m",
      "\u001b[1;31mNameError\u001b[0m                                 Traceback (most recent call last)",
      "\u001b[1;32m<ipython-input-15-c8a27504ee8d>\u001b[0m in \u001b[0;36m<module>\u001b[1;34m()\u001b[0m\n\u001b[1;32m----> 1\u001b[1;33m \u001b[0mwest\u001b[0m \u001b[1;33m=\u001b[0m \u001b[0mnp\u001b[0m\u001b[1;33m.\u001b[0m\u001b[0marray\u001b[0m\u001b[1;33m(\u001b[0m\u001b[0mdf\u001b[0m\u001b[1;33m.\u001b[0m\u001b[0mloc\u001b[0m\u001b[1;33m[\u001b[0m\u001b[0mdf\u001b[0m\u001b[1;33m.\u001b[0m\u001b[0mRegion\u001b[0m\u001b[1;33m==\u001b[0m\u001b[1;34m'West'\u001b[0m\u001b[1;33m,\u001b[0m \u001b[0mheader\u001b[0m \u001b[1;33m==\u001b[0m\u001b[1;34m'Units'\u001b[0m\u001b[1;33m]\u001b[0m\u001b[1;33m)\u001b[0m\u001b[1;33m\u001b[0m\u001b[0m\n\u001b[0m",
      "\u001b[1;31mNameError\u001b[0m: name 'header' is not defined"
     ],
     "output_type": "error"
    }
   ],
   "source": [
    "central = np.array(df.loc[df.Region=='Central', header =='Units'])"
   ]
  },
  {
   "cell_type": "code",
   "execution_count": null,
   "metadata": {},
   "outputs": [],
   "source": [
    "east = np.array(df.loc[df.Region=='East', header =='Units'])"
   ]
  }
 ],
 "metadata": {
  "kernelspec": {
   "display_name": "Python 3",
   "language": "python",
   "name": "python3"
  },
  "language_info": {
   "codemirror_mode": {
    "name": "ipython",
    "version": 3
   },
   "file_extension": ".py",
   "mimetype": "text/x-python",
   "name": "python",
   "nbconvert_exporter": "python",
   "pygments_lexer": "ipython3",
   "version": "3.6.5"
  }
 },
 "nbformat": 4,
 "nbformat_minor": 2
}
