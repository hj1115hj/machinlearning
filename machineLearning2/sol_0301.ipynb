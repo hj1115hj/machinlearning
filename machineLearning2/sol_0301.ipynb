{
 "cells": [
  {
   "cell_type": "code",
   "execution_count": 25,
   "metadata": {},
   "outputs": [],
   "source": [
    "import pandas as pd\n",
    "import numpy as np\n",
    "import os\n",
    "import matplotlib.pyplot as plt\n"
   ]
  },
  {
   "cell_type": "code",
   "execution_count": 26,
   "metadata": {},
   "outputs": [],
   "source": [
    "os.chdir(r\"C:\\Users\\bit\\Desktop\\머신러닝 알고리즘과 응용 2\\data\")"
   ]
  },
  {
   "cell_type": "code",
   "execution_count": 27,
   "metadata": {},
   "outputs": [],
   "source": [
    "# df = pd.read_csv('data_studentlist_en.csv', header='infer',encoding='ISO-8859-1')\n",
    "coffee = pd.read_csv('data_coffee.csv', header='infer',encoding = 'latin1')"
   ]
  },
  {
   "cell_type": "code",
   "execution_count": 28,
   "metadata": {},
   "outputs": [
    {
     "data": {
      "text/plain": [
       "(46832, 23)"
      ]
     },
     "execution_count": 28,
     "metadata": {},
     "output_type": "execute_result"
    }
   ],
   "source": [
    "coffee.shape"
   ]
  },
  {
   "cell_type": "code",
   "execution_count": 29,
   "metadata": {},
   "outputs": [
    {
     "name": "stdout",
     "output_type": "stream",
     "text": [
      "<class 'pandas.core.frame.DataFrame'>\n",
      "RangeIndex: 46832 entries, 0 to 46831\n",
      "Data columns (total 23 columns):\n",
      "number                  46832 non-null int64\n",
      "companyName             46832 non-null object\n",
      "adress                  46600 non-null object\n",
      "adressBystreet          39548 non-null object\n",
      "dateOflicensing         46832 non-null int64\n",
      "stateOfbusiness         46832 non-null object\n",
      "dateOfclosure           13245 non-null float64\n",
      "startdateOfcessation    0 non-null float64\n",
      "duedateOfcessation      0 non-null float64\n",
      "dateOfreOpen            0 non-null float64\n",
      "areaOfsite              0 non-null float64\n",
      "zip                     0 non-null float64\n",
      "waterwork               29610 non-null object\n",
      "numOfmenWorker          5918 non-null float64\n",
      "yearOfStart             46813 non-null float64\n",
      "multipleUse             46813 non-null object\n",
      "grade                   3775 non-null object\n",
      "sizeOfsite              46813 non-null float64\n",
      "numOfwomenWorker        7042 non-null float64\n",
      "vicintyOfsite           12894 non-null object\n",
      "sanitaryName            46813 non-null object\n",
      "businessCondition       46813 non-null object\n",
      "totalOfworker           5537 non-null float64\n",
      "dtypes: float64(11), int64(2), object(10)\n",
      "memory usage: 8.2+ MB\n"
     ]
    }
   ],
   "source": [
    "coffee.info()"
   ]
  },
  {
   "cell_type": "code",
   "execution_count": 32,
   "metadata": {},
   "outputs": [
    {
     "data": {
      "text/plain": [
       "Index(['number', 'companyName', 'adress', 'adressBystreet', 'dateOflicensing',\n",
       "       'stateOfbusiness', 'dateOfclosure', 'startdateOfcessation',\n",
       "       'duedateOfcessation', 'dateOfreOpen', 'areaOfsite', 'zip', 'waterwork',\n",
       "       'numOfmenWorker', 'yearOfStart', 'multipleUse', 'grade', 'sizeOfsite',\n",
       "       'numOfwomenWorker', 'vicintyOfsite', 'sanitaryName',\n",
       "       'businessCondition', 'totalOfworker'],\n",
       "      dtype='object')"
      ]
     },
     "execution_count": 32,
     "metadata": {},
     "output_type": "execute_result"
    }
   ],
   "source": [
    "coffee.columns"
   ]
  },
  {
   "cell_type": "code",
   "execution_count": 36,
   "metadata": {},
   "outputs": [
    {
     "data": {
      "text/plain": [
       "0         20.80\n",
       "1        212.72\n",
       "2         20.04\n",
       "3         64.17\n",
       "4         11.40\n",
       "5         10.99\n",
       "6         67.50\n",
       "7         46.05\n",
       "8          8.20\n",
       "9         39.92\n",
       "10        23.33\n",
       "11        27.95\n",
       "12       116.85\n",
       "13         3.36\n",
       "14        36.00\n",
       "15        43.00\n",
       "16        15.46\n",
       "17        43.27\n",
       "18       200.77\n",
       "19        69.56\n",
       "20        14.50\n",
       "21       173.51\n",
       "22       150.00\n",
       "23       490.42\n",
       "24        16.50\n",
       "25        81.24\n",
       "26        94.08\n",
       "27        19.79\n",
       "28        19.80\n",
       "29        16.10\n",
       "          ...  \n",
       "46802    125.12\n",
       "46803     98.57\n",
       "46804     11.55\n",
       "46805     66.00\n",
       "46806    320.00\n",
       "46807     32.80\n",
       "46808     20.52\n",
       "46809      8.38\n",
       "46810    115.10\n",
       "46811     96.00\n",
       "46812     32.93\n",
       "46813     73.92\n",
       "46814     91.58\n",
       "46815     45.90\n",
       "46816     64.14\n",
       "46817     46.50\n",
       "46818    180.00\n",
       "46819    142.77\n",
       "46820     29.06\n",
       "46821     38.94\n",
       "46822     30.67\n",
       "46823     42.04\n",
       "46824    199.76\n",
       "46825    128.50\n",
       "46826     93.84\n",
       "46827     30.61\n",
       "46828     44.21\n",
       "46829     35.70\n",
       "46830     46.20\n",
       "46831    176.49\n",
       "Name: sizeOfsite, Length: 46832, dtype: float64"
      ]
     },
     "execution_count": 36,
     "metadata": {},
     "output_type": "execute_result"
    }
   ],
   "source": [
    "coffee.sizeOfsite"
   ]
  },
  {
   "cell_type": "code",
   "execution_count": 41,
   "metadata": {},
   "outputs": [
    {
     "data": {
      "text/plain": [
       "19"
      ]
     },
     "execution_count": 41,
     "metadata": {},
     "output_type": "execute_result"
    }
   ],
   "source": [
    "(coffee.sizeOfsite.isnull()).sum(axis=0)"
   ]
  },
  {
   "cell_type": "code",
   "execution_count": 45,
   "metadata": {},
   "outputs": [
    {
     "data": {
      "text/plain": [
       "0.0004057055005124701"
      ]
     },
     "execution_count": 45,
     "metadata": {},
     "output_type": "execute_result"
    }
   ],
   "source": [
    "(coffee.sizeOfsite.isnull()).mean(axis=0)"
   ]
  },
  {
   "cell_type": "code",
   "execution_count": 47,
   "metadata": {},
   "outputs": [],
   "source": [
    "coffee1 = np.array(coffee.loc[:,'sizeOfsite'].dropna(axis=0))"
   ]
  },
  {
   "cell_type": "code",
   "execution_count": 54,
   "metadata": {},
   "outputs": [
    {
     "data": {
      "text/plain": [
       "(46813,)"
      ]
     },
     "execution_count": 54,
     "metadata": {},
     "output_type": "execute_result"
    }
   ],
   "source": [
    "coffee1.shape"
   ]
  },
  {
   "cell_type": "code",
   "execution_count": 55,
   "metadata": {},
   "outputs": [
    {
     "ename": "AttributeError",
     "evalue": "'numpy.ndarray' object has no attribute 'columns'",
     "traceback": [
      "\u001b[1;31m---------------------------------------------------------------------------\u001b[0m",
      "\u001b[1;31mAttributeError\u001b[0m                            Traceback (most recent call last)",
      "\u001b[1;32m<ipython-input-55-82a4a10a290a>\u001b[0m in \u001b[0;36m<module>\u001b[1;34m()\u001b[0m\n\u001b[1;32m----> 1\u001b[1;33m \u001b[0mcoffee1\u001b[0m\u001b[1;33m.\u001b[0m\u001b[0mcolumns\u001b[0m\u001b[1;33m\u001b[0m\u001b[0m\n\u001b[0m",
      "\u001b[1;31mAttributeError\u001b[0m: 'numpy.ndarray' object has no attribute 'columns'"
     ],
     "output_type": "error"
    }
   ],
   "source": [
    "coffee1.columns"
   ]
  },
  {
   "cell_type": "code",
   "execution_count": null,
   "metadata": {},
   "outputs": [],
   "source": []
  },
  {
   "cell_type": "code",
   "execution_count": null,
   "metadata": {},
   "outputs": [],
   "source": []
  },
  {
   "cell_type": "code",
   "execution_count": null,
   "metadata": {},
   "outputs": [],
   "source": []
  },
  {
   "cell_type": "code",
   "execution_count": null,
   "metadata": {},
   "outputs": [],
   "source": []
  },
  {
   "cell_type": "code",
   "execution_count": null,
   "metadata": {},
   "outputs": [],
   "source": []
  },
  {
   "cell_type": "code",
   "execution_count": null,
   "metadata": {},
   "outputs": [],
   "source": []
  },
  {
   "cell_type": "code",
   "execution_count": null,
   "metadata": {},
   "outputs": [],
   "source": []
  }
 ],
 "metadata": {
  "kernelspec": {
   "display_name": "Python 3",
   "language": "python",
   "name": "python3"
  },
  "language_info": {
   "codemirror_mode": {
    "name": "ipython",
    "version": 3
   },
   "file_extension": ".py",
   "mimetype": "text/x-python",
   "name": "python",
   "nbconvert_exporter": "python",
   "pygments_lexer": "ipython3",
   "version": "3.6.5"
  }
 },
 "nbformat": 4,
 "nbformat_minor": 2
}
